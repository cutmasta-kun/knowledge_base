{
  "nbformat": 4,
  "nbformat_minor": 5,
  "metadata": {
    "noteable-chatgpt": {
      "create_notebook": {
        "openai_conversation_id": "4e345300-d0b7-56c5-b345-33e30f95d0f7",
        "openai_ephemeral_user_id": "3cec9560-af51-50a8-a818-baf96668d4b7"
      }
    },
    "noteable": {
      "last_transaction_id": "eb5eca13-a89e-4a1a-b2f9-e65fc1bc1308"
    },
    "selected_hardware_size": "small"
  },
  "cells": [
    {
      "id": "0471315b-d752-4b94-9a76-f686e9392a77",
      "cell_type": "code",
      "metadata": {
        "noteable": {
          "cell_type": "code",
          "output_collection_id": null
        },
        "ExecuteTime": {
          "end_time": "2023-07-09T11:53:02.858735+00:00",
          "start_time": "2023-07-09T11:53:02.688159+00:00"
        }
      },
      "execution_count": null,
      "source": "import os\nimport subprocess\n\ndef run_git_command(command):\n    os.environ['GIT_ASKPASS'] = 'echo'\n    os.environ['GIT_USERNAME'] = os.environ['GITHUB_USERNAME']\n    os.environ['GIT_PASSWORD'] = os.environ['GITHUB_PASSWORD']\n    process = subprocess.Popen(command, stdout=subprocess.PIPE, stderr=subprocess.PIPE)\n    stdout, stderr = process.communicate()\n    return stdout.decode('utf-8'), stderr.decode('utf-8')\n\nstdout, stderr = run_git_command(['git', 'status'])\nprint(stdout)\nprint(stderr)",
      "outputs": []
    },
    {
      "id": "5edb4060-a167-43e7-9877-c83b807d7b25",
      "cell_type": "code",
      "metadata": {
        "noteable": {
          "cell_type": "code"
        }
      },
      "execution_count": null,
      "source": "import os\nprint(os.environ['GITHUB_USERNAME'])",
      "outputs": []
    },
    {
      "id": "bce84865-75f8-489c-9be9-a6a973968ba7",
      "cell_type": "code",
      "metadata": {
        "noteable": {
          "cell_type": "code"
        }
      },
      "execution_count": null,
      "source": "import os\nprint(os.environ['GITHUB_USERNAME'])",
      "outputs": []
    }
  ]
}