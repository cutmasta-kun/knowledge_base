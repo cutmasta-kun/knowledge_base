{
  "nbformat": 4,
  "nbformat_minor": 5,
  "metadata": {
    "noteable-chatgpt": {
      "create_notebook": {
        "openai_conversation_id": "4e345300-d0b7-56c5-b345-33e30f95d0f7",
        "openai_ephemeral_user_id": "3cec9560-af51-50a8-a818-baf96668d4b7"
      }
    }
  },
  "cells": []
}