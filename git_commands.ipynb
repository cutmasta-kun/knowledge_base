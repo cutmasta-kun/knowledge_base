{
  "nbformat": 4,
  "nbformat_minor": 5,
  "metadata": {
    "noteable-chatgpt": {
      "create_notebook": {
        "openai_conversation_id": "4e345300-d0b7-56c5-b345-33e30f95d0f7",
        "openai_ephemeral_user_id": "3cec9560-af51-50a8-a818-baf96668d4b7"
      }
    },
    "noteable": {
      "last_transaction_id": "19d9ce42-c802-4849-a26d-8821fd6041ce"
    },
    "selected_hardware_size": "small"
  },
  "cells": [
    {
      "id": "89179cac-f714-4156-924b-44407d96c7ab",
      "cell_type": "code",
      "metadata": {
        "jupyter": {
          "outputs_hidden": false,
          "source_hidden": false
        },
        "noteable": {
          "cell_type": "code"
        }
      },
      "execution_count": null,
      "source": "",
      "outputs": []
    },
    {
      "id": "4cad11d2-6337-4369-b313-85cf543408af",
      "cell_type": "code",
      "metadata": {
        "jupyter": {
          "outputs_hidden": false,
          "source_hidden": false
        },
        "noteable": {
          "cell_type": "code"
        }
      },
      "execution_count": null,
      "source": "",
      "outputs": []
    },
    {
      "id": "0471315b-d752-4b94-9a76-f686e9392a77",
      "cell_type": "code",
      "metadata": {
        "noteable": {
          "cell_type": "code",
          "output_collection_id": "75c33641-cc0b-4294-a0ef-51425d646c05"
        },
        "ExecuteTime": {
          "end_time": "2023-07-09T11:45:48.175634+00:00",
          "start_time": "2023-07-09T11:45:48.000706+00:00"
        }
      },
      "execution_count": null,
      "source": "import os\nimport subprocess\n\ndef run_git_command(command):\n    os.environ['GIT_ASKPASS'] = 'echo'\n    os.environ['GIT_USERNAME'] = os.environ['GITHUB_USERNAME']\n    os.environ['GIT_PASSWORD'] = os.environ['GITHUB_PASSWORD']\n    process = subprocess.Popen(command, stdout=subprocess.PIPE, stderr=subprocess.PIPE)\n    stdout, stderr = process.communicate()\n    return stdout.decode('utf-8'), stderr.decode('utf-8')\n\nstdout, stderr = run_git_command(['git', 'status'])\nprint(stdout)\nprint(stderr)",
      "outputs": []
    }
  ]
}