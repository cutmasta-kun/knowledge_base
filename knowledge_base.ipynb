{
  "nbformat": 4,
  "nbformat_minor": 5,
  "metadata": {
    "noteable-chatgpt": {
      "create_notebook": {
        "openai_conversation_id": "4e345300-d0b7-56c5-b345-33e30f95d0f7",
        "openai_ephemeral_user_id": "3cec9560-af51-50a8-a818-baf96668d4b7"
      }
    },
    "noteable": {
      "last_transaction_id": "7fcd2c58-817c-4d21-8774-ea5a6e59a165"
    }
  },
  "cells": [
    {
      "id": "ad13e04c-c450-461b-91b6-f230807bd40d",
      "cell_type": "code",
      "metadata": {
        "jupyter": {
          "outputs_hidden": false,
          "source_hidden": false
        },
        "noteable": {
          "cell_type": "code"
        }
      },
      "execution_count": null,
      "source": "",
      "outputs": []
    },
    {
      "id": "12027f06-4d0a-4f93-912c-e3df7cf654b8",
      "cell_type": "markdown",
      "source": "---\naliases:\n-\ntags:\n- seedling\npublish: true\n---\n\n# Markdown Syntax\n\n## Introductory Readings\n- [Introduction to Basic Markdown Syntax](https://www.markdownguide.org/basic-syntax/)\n\t- There are many markdown variations. Obsidian's syntax is based on commonmark. Here are two good places to start:\n\t\t- [Markdown Reference](https://commonmark.org/help/)\n\t\t- [Markdown Tutorial - Introduction](https://commonmark.org/help/tutorial/index.html)\n- [John Gruber's Original Documentation](https://daringfireball.net/projects/markdown/)\n- The full syntax used by Obsidian (including its [[#Obsidian's Custom markdown syntax|custom syntax]]) is described here: [Format your notes - Obsidian Help](https://help.obsidian.md/How+to/Format+your+notes)",
      "metadata": {
        "noteable": {
          "cell_type": "markdown"
        }
      }
    },
    {
      "id": "a76f4700-6538-42fe-8ab9-7cf7328f2b6c",
      "cell_type": "markdown",
      "source": "### Obsidian's Custom markdown syntax\n\n- Links use the `[[wikilink]]` format, but you can switch to markdown links in the settings if you want.\n\t- `[[wikilink#]]` to link to headers\n\t- `[[wikilink#^]]` to link to individual \"blocks\"\n- You can use a `|` to modify the text being displayed, e.g. `[[wikilink|display text]]`.\n- Adding `!` before a link, e.g. `![[wikilink]]` will embed the file, but you can also embed headers (anything starting with `#`) or blocks (using `^`).\n\t- `![[wikilink]]` for the full note\n\t- `![[wikilink#Header]]` for headers\n\t- `![[wikilink#^blockid]]` for individual \"blocks\"\n- It recognizes tags, e.g. #tutorial and clicking on them will open a search\n- You can add highlights by surrounding text with `==`, e.g. `==highlight==`, and strikethrough with `~~`, e.g.`~~strikethrough~~`\n- It supports [MathJax](https://www.mathjax.org/) to write formulas/equations: `$x^2 + y^2 = z^2$` looks like $x^2 + y^2 = z^2$\n- Text enclosed in `%%` are considered comments and won't be rendered `%% Comments %%`",
      "metadata": {
        "noteable": {
          "cell_type": "markdown"
        }
      }
    },
    {
      "id": "3caae1cd-f1fc-4d6b-8c82-87ddaf397e08",
      "cell_type": "markdown",
      "source": "#### Callouts\n\nCallouts were recently added to highlight information, e.g.\n\n```markdown\n> [!info] Callout title\n> Content of callout\n```\n\nresults in:\n\n> [!info] Callout title\n> Content of the callout",
      "metadata": {
        "noteable": {
          "cell_type": "markdown"
        }
      }
    },
    {
      "id": "b13e851e-c55b-4181-960a-c915235fda34",
      "cell_type": "markdown",
      "source": "#### Mermaid diagrams\n\nSupports rendering [mermaid](https://mermaid-js.github.io/mermaid/#/) diagrams, e.g.\n\n````markdown\n```mermaid\nflowchart TB\n\tA --> C\n\tA --> D\n\tB --> C\n\tB --> D\n```\n````\n\nresults in:\n```mermaid\nflowchart TB\n\tA --> C\n\tA --> D\n\tB --> C\n\tB --> D\n```",
      "metadata": {
        "noteable": {
          "cell_type": "markdown"
        }
      }
    },
    {
      "id": "bd0bd742-8b9d-46a5-8684-3090d004cce4",
      "cell_type": "markdown",
      "source": "## Lesser known Markdown Syntax\n- Indenting text with a preceding blank lines is rendered as code block (which is why it changes color, which gets asked quite often).\n- A dash (`-`) or equal sign (`=`) below some text turns it into a heading, due to the older (but still supported) *setext-syntax* for Markdown headings. Continuing to write some non-dash-non-equal-sign-character fixes this already.\n- When using the `Strict Line Breaks` setting, a single line break can be created by placing two spaces at the end of a line ([\"Two Space Rule\"](https://daringfireball.net/projects/markdown/syntax#p)).\n\t- Since `Strict Line Breaks` makes Obsidian ignore single line breaks, they can be used for  [Semantic Line Breaks](https://sembr.org/)\n- To write special characters like `*` or `$` without them triggering some markup like *italics* or Mathjax, they need to be escaped by putting a backlash in front of it: `\\*` or `\\$`.\n- Lists that have single blank lines in between the list items are considered loose lists and which get extra spacing between each list item. To remove that spacing, simply remove the blank lines between list items. (Note that some themes already disable loose lists by default.)\n- To get a line break in a Markdown table, use `<br>`.",
      "metadata": {
        "noteable": {
          "cell_type": "markdown"
        }
      }
    },
    {
      "id": "bc31f797-99bf-4051-85bb-bb510ff0fadb",
      "cell_type": "markdown",
      "source": "- To get a code block in a code block, you can use four backticks. (To have a code block in a code block in a code block, you would use five, etc.)\n\n`````md\n````md\n\t```md\n\tfsfsfsf\n\t```\n````\n`````",
      "metadata": {
        "noteable": {
          "cell_type": "markdown"
        }
      }
    }
  ]
}