{
  "nbformat": 4,
  "nbformat_minor": 5,
  "metadata": {
    "noteable-chatgpt": {
      "create_notebook": {
        "openai_conversation_id": "4e345300-d0b7-56c5-b345-33e30f95d0f7",
        "openai_ephemeral_user_id": "3cec9560-af51-50a8-a818-baf96668d4b7"
      }
    },
    "noteable": {
      "last_transaction_id": "44523751-e4cf-4710-be7b-994facf0be7a"
    }
  },
  "cells": [
    {
      "id": "12027f06-4d0a-4f93-912c-e3df7cf654b8",
      "cell_type": "markdown",
      "source": "---\naliases:\n-\ntags:\n- seedling\npublish: true\n---\n\n# Markdown Syntax\n\n## Introductory Readings\n- [Introduction to Basic Markdown Syntax](https://www.markdownguide.org/basic-syntax/)\n\t- There are many markdown variations. Obsidian's syntax is based on commonmark. Here are two good places to start:\n\t\t- [Markdown Reference](https://commonmark.org/help/)\n\t\t- [Markdown Tutorial - Introduction](https://commonmark.org/help/tutorial/index.html)\n- [John Gruber's Original Documentation](https://daringfireball.net/projects/markdown/)\n- The full syntax used by Obsidian (including its [[#Obsidian's Custom markdown syntax|custom syntax]]) is described here: [Format your notes - Obsidian Help](https://help.obsidian.md/How+to/Format+your+notes)",
      "metadata": {
        "noteable": {
          "cell_type": "markdown"
        }
      }
    },
    {
      "id": "a76f4700-6538-42fe-8ab9-7cf7328f2b6c",
      "cell_type": "markdown",
      "source": "### Obsidian's Custom markdown syntax\n\n- Links use the `[[wikilink]]` format, but you can switch to markdown links in the settings if you want.\n\t- `[[wikilink#]]` to link to headers\n\t- `[[wikilink#^]]` to link to individual \"blocks\"\n- You can use a `|` to modify the text being displayed, e.g. `[[wikilink|display text]]`.\n- Adding `!` before a link, e.g. `![[wikilink]]` will embed the file, but you can also embed headers (anything starting with `#`) or blocks (using `^`).\n\t- `![[wikilink]]` for the full note\n\t- `![[wikilink#Header]]` for headers\n\t- `![[wikilink#^blockid]]` for individual \"blocks\"\n- It recognizes tags, e.g. #tutorial and clicking on them will open a search\n- You can add highlights by surrounding text with `==`, e.g. `==highlight==`, and strikethrough with `~~`, e.g.`~~strikethrough~~`\n- It supports [MathJax](https://www.mathjax.org/) to write formulas/equations: `$x^2 + y^2 = z^2$` looks like $x^2 + y^2 = z^2$\n- Text enclosed in `%%` are considered comments and won't be rendered `%% Comments %%`",
      "metadata": {
        "noteable": {
          "cell_type": "markdown"
        }
      }
    },
    {
      "id": "3caae1cd-f1fc-4d6b-8c82-87ddaf397e08",
      "cell_type": "markdown",
      "source": "#### Callouts\n\nCallouts were recently added to highlight information, e.g.\n\n```markdown\n> [!info] Callout title\n> Content of callout\n```\n\nresults in:\n\n> [!info] Callout title\n> Content of the callout",
      "metadata": {
        "noteable": {
          "cell_type": "markdown"
        }
      }
    },
    {
      "id": "b13e851e-c55b-4181-960a-c915235fda34",
      "cell_type": "markdown",
      "source": "#### Mermaid diagrams\n\nSupports rendering [mermaid](https://mermaid-js.github.io/mermaid/#/) diagrams, e.g.\n\n````markdown\n```mermaid\nflowchart TB\n\tA --> C\n\tA --> D\n\tB --> C\n\tB --> D\n```\n````\n\nresults in:\n```mermaid\nflowchart TB\n\tA --> C\n\tA --> D\n\tB --> C\n\tB --> D\n```",
      "metadata": {
        "noteable": {
          "cell_type": "markdown"
        }
      }
    },
    {
      "id": "bd0bd742-8b9d-46a5-8684-3090d004cce4",
      "cell_type": "markdown",
      "source": "## Lesser known Markdown Syntax\n- Indenting text with a preceding blank lines is rendered as code block (which is why it changes color, which gets asked quite often).\n- A dash (`-`) or equal sign (`=`) below some text turns it into a heading, due to the older (but still supported) *setext-syntax* for Markdown headings. Continuing to write some non-dash-non-equal-sign-character fixes this already.\n- When using the `Strict Line Breaks` setting, a single line break can be created by placing two spaces at the end of a line ([\"Two Space Rule\"](https://daringfireball.net/projects/markdown/syntax#p)).\n\t- Since `Strict Line Breaks` makes Obsidian ignore single line breaks, they can be used for  [Semantic Line Breaks](https://sembr.org/)\n- To write special characters like `*` or `$` without them triggering some markup like *italics* or Mathjax, they need to be escaped by putting a backlash in front of it: `\\*` or `\\$`.\n- Lists that have single blank lines in between the list items are considered loose lists and which get extra spacing between each list item. To remove that spacing, simply remove the blank lines between list items. (Note that some themes already disable loose lists by default.)\n- To get a line break in a Markdown table, use `<br>`.",
      "metadata": {
        "noteable": {
          "cell_type": "markdown"
        }
      }
    },
    {
      "id": "bc31f797-99bf-4051-85bb-bb510ff0fadb",
      "cell_type": "markdown",
      "source": "- To get a code block in a code block, you can use four backticks. (To have a code block in a code block in a code block, you would use five, etc.)\n\n`````md\n````md\n\t```md\n\tfsfsfsf\n\t```\n````\n`````",
      "metadata": {
        "noteable": {
          "cell_type": "markdown"
        }
      }
    },
    {
      "id": "6dab9f6f-43f6-4fcd-aa0a-d6985b47b926",
      "cell_type": "markdown",
      "source": "# Conventional Commits\nConventional Commits ist eine leichte Konvention für Commit-Nachrichten. Sie bietet eine einfache Reihe von Regeln für die Erstellung einer expliziten Commit-Historie, was das Schreiben von automatisierten Tools auf dieser Konvention erleichtert.\nDie Webseite [Conventional Commits](https://www.conventionalcommits.org/en/v1.0.0/) bietet eine ausführliche Spezifikation und Beispiele.",
      "metadata": {
        "noteable": {
          "cell_type": "markdown"
        }
      }
    },
    {
      "id": "d83a863a-879a-4aa0-9f34-a1a3405c1e50",
      "cell_type": "markdown",
      "source": "## Struktur der Commit-Nachricht\nDie Commit-Nachricht sollte folgendermaßen strukturiert sein: `<type>[optionaler scope]: <Beschreibung>[optionaler Body][optionale Fußzeilen]`.",
      "metadata": {
        "noteable": {
          "cell_type": "markdown"
        }
      }
    },
    {
      "id": "51ef56c0-7b1d-4b5c-a1c0-716814cd01e1",
      "cell_type": "markdown",
      "source": "## Typen von Commits\n- Ein Commit vom Typ `fix` behebt einen Fehler in Ihrer Codebasis. Dies korreliert mit Patch in Semantic Versioning.\n- Ein Commit vom Typ `feat` führt ein neues Feature in Ihre Codebasis ein. Dies korreliert mit Minor in Semantic Versioning.\n- Ein Commit, der eine Fußzeile `BREAKING CHANGE` hat oder ein `!` nach dem Typ/Scope anhängt, führt eine API-Änderung ein, die mit Major in Semantic Versioning korreliert.",
      "metadata": {
        "noteable": {
          "cell_type": "markdown"
        }
      }
    },
    {
      "id": "877c7133-2492-4e65-9e14-9a4989e7b78a",
      "cell_type": "markdown",
      "source": "## Andere Typen\nAndere Typen als `fix` und `feat` sind erlaubt, zum Beispiel empfiehlt commitlint/config-conventional (basierend auf der Angular-Konvention) `build`, `chore`, `ci`, `docs`, `style`, `refactor`, `perf`, `test` und andere.",
      "metadata": {
        "noteable": {
          "cell_type": "markdown"
        }
      }
    },
    {
      "id": "6aa27d36-3db2-4a83-9bda-3a829283a06a",
      "cell_type": "markdown",
      "source": "## Fußzeilen\nFußzeilen außer `BREAKING CHANGE: <Beschreibung>` können bereitgestellt werden und folgen einer Konvention, die der Git-Trailer-Format ähnelt.",
      "metadata": {
        "noteable": {
          "cell_type": "markdown"
        }
      }
    },
    {
      "id": "0562cd5e-f413-4cda-8324-f605f353086c",
      "cell_type": "markdown",
      "source": "## Falscher Commit-Typ\nWenn Sie versehentlich den falschen Commit-Typ verwenden, wird empfohlen, `git rebase -i` zu verwenden, um die Commit-Historie zu bearbeiten, bevor Sie zusammenführen oder freigeben.",
      "metadata": {
        "noteable": {
          "cell_type": "markdown"
        }
      }
    },
    {
      "id": "f7160e4f-e170-4acb-b2f1-81c37856c094",
      "cell_type": "markdown",
      "source": "## Mitwirkende und Conventional Commits\nNicht alle Mitwirkenden müssen die Conventional Commits-Spezifikation verwenden. Wenn Sie einen Squash-basierten Workflow in Git verwenden, können leitende Maintainer die Commit-Nachrichten aufräumen, wenn sie zusammengeführt werden.",
      "metadata": {
        "noteable": {
          "cell_type": "markdown"
        }
      }
    },
    {
      "id": "f5c8529f-4945-443e-9621-90115984a3fe",
      "cell_type": "markdown",
      "source": "## Zurücksetzen von Commits\nConventional Commits definiert kein explizites Verhalten für das Zurücksetzen von Commits. Stattdessen überlassen wir es den Autoren von Werkzeugen, die Flexibilität von Typen und Fußzeilen zu nutzen, um ihre Logik für das Handling von Reverts zu entwickeln.",
      "metadata": {
        "noteable": {
          "cell_type": "markdown"
        }
      }
    }
  ]
}